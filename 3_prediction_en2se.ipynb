{
 "cells": [
  {
   "cell_type": "code",
   "execution_count": 44,
   "metadata": {},
   "outputs": [
    {
     "name": "stdin",
     "output_type": "stream",
     "text": [
      " \"But such an awful big mouth you have!\"\n"
     ]
    }
   ],
   "source": [
    "input_english_sentence=input()\n",
    "#example1 :\n",
    "#\"But such an awful big mouth you have!\"\n",
    "#example2:\n",
    "#\"The easier it is to eat you.\""
   ]
  },
  {
   "cell_type": "code",
   "execution_count": 45,
   "metadata": {},
   "outputs": [
    {
     "name": "stdout",
     "output_type": "stream",
     "text": [
      "Constructing dictionaries...\n",
      "Building model...\n",
      "/workspace/beam.py:61: UserWarning: Integer division of tensors using div or / is deprecated, and in a future release div will perform true division as in Python 3. Use true_divide or floor_divide (// in Python) instead. (Triggered internally at  ../aten/src/ATen/native/BinaryOps.cpp:81.)\n",
      "  prev_k = top_score_ids / vocabulary_size  # (beam_size, )\n",
      "Candidate 0 : \"Men en så förskräckligt stor mun\n",
      "Candidate 1 : \"Men en så förskräckligt stor mun du har!\"\n",
      "Candidate 2 : \"Men en så förskräckligt stor mun mun du har!\"\n"
     ]
    }
   ],
   "source": [
    "!python predict.py --source=$input_english_sentence --config=checkpoints/example_config.json --checkpoint=checkpoints/swedish.pth"
   ]
  }
 ],
 "metadata": {
  "kernelspec": {
   "display_name": "Python 3",
   "language": "python",
   "name": "python3"
  },
  "language_info": {
   "codemirror_mode": {
    "name": "ipython",
    "version": 3
   },
   "file_extension": ".py",
   "mimetype": "text/x-python",
   "name": "python",
   "nbconvert_exporter": "python",
   "pygments_lexer": "ipython3",
   "version": "3.6.10"
  }
 },
 "nbformat": 4,
 "nbformat_minor": 4
}
